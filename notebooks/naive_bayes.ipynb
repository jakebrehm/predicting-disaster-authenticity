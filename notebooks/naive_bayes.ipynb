{
 "cells": [
  {
   "cell_type": "code",
   "execution_count": 1,
   "id": "58149929-d1bf-45d0-9e83-62d8ed424842",
   "metadata": {},
   "outputs": [],
   "source": [
    "import pandas as pd\n",
    "import numpy as np\n",
    "import re\n",
    "from tqdm import tqdm\n",
    "import random\n",
    "\n",
    "import spacy\n",
    "from sklearn.feature_extraction.text import CountVectorizer, TfidfVectorizer, TfidfTransformer\n",
    "from sklearn.pipeline import Pipeline\n",
    "from sklearn.model_selection import cross_validate, train_test_split, StratifiedKFold, GridSearchCV\n",
    "from sklearn.naive_bayes import MultinomialNB, GaussianNB\n",
    "from sklearn.metrics import classification_report\n",
    "\n",
    "import matplotlib.pyplot as plt\n",
    "import seaborn as sns\n",
    "\n",
    "plt.rcParams['figure.figsize'] = [6,4]\n",
    "pd.set_option('display.max_colwidth', None)"
   ]
  },
  {
   "cell_type": "code",
   "execution_count": 2,
   "id": "e7148d2f-2970-465f-9fd5-ed5809c9c232",
   "metadata": {},
   "outputs": [],
   "source": [
    "df = pd.read_csv('train.csv')"
   ]
  },
  {
   "cell_type": "code",
   "execution_count": 3,
   "id": "8a895ac2-0794-41f1-bcff-53340ab207eb",
   "metadata": {},
   "outputs": [
    {
     "name": "stdout",
     "output_type": "stream",
     "text": [
      "<class 'pandas.core.frame.DataFrame'>\n",
      "RangeIndex: 7613 entries, 0 to 7612\n",
      "Data columns (total 5 columns):\n",
      " #   Column    Non-Null Count  Dtype \n",
      "---  ------    --------------  ----- \n",
      " 0   id        7613 non-null   int64 \n",
      " 1   keyword   7552 non-null   object\n",
      " 2   location  5080 non-null   object\n",
      " 3   text      7613 non-null   object\n",
      " 4   target    7613 non-null   int64 \n",
      "dtypes: int64(2), object(3)\n",
      "memory usage: 297.5+ KB\n"
     ]
    }
   ],
   "source": [
    "df.info()"
   ]
  },
  {
   "cell_type": "code",
   "execution_count": 4,
   "id": "a3453cad-2449-4cb8-9b60-23b9ae5ce660",
   "metadata": {},
   "outputs": [
    {
     "data": {
      "text/html": [
       "<div>\n",
       "<style scoped>\n",
       "    .dataframe tbody tr th:only-of-type {\n",
       "        vertical-align: middle;\n",
       "    }\n",
       "\n",
       "    .dataframe tbody tr th {\n",
       "        vertical-align: top;\n",
       "    }\n",
       "\n",
       "    .dataframe thead th {\n",
       "        text-align: right;\n",
       "    }\n",
       "</style>\n",
       "<table border=\"1\" class=\"dataframe\">\n",
       "  <thead>\n",
       "    <tr style=\"text-align: right;\">\n",
       "      <th></th>\n",
       "      <th>id</th>\n",
       "      <th>keyword</th>\n",
       "      <th>location</th>\n",
       "      <th>text</th>\n",
       "      <th>target</th>\n",
       "    </tr>\n",
       "  </thead>\n",
       "  <tbody>\n",
       "    <tr>\n",
       "      <th>0</th>\n",
       "      <td>1</td>\n",
       "      <td>NaN</td>\n",
       "      <td>NaN</td>\n",
       "      <td>Our Deeds are the Reason of this #earthquake May ALLAH Forgive us all</td>\n",
       "      <td>1</td>\n",
       "    </tr>\n",
       "    <tr>\n",
       "      <th>1</th>\n",
       "      <td>4</td>\n",
       "      <td>NaN</td>\n",
       "      <td>NaN</td>\n",
       "      <td>Forest fire near La Ronge Sask. Canada</td>\n",
       "      <td>1</td>\n",
       "    </tr>\n",
       "    <tr>\n",
       "      <th>2</th>\n",
       "      <td>5</td>\n",
       "      <td>NaN</td>\n",
       "      <td>NaN</td>\n",
       "      <td>All residents asked to 'shelter in place' are being notified by officers. No other evacuation or shelter in place orders are expected</td>\n",
       "      <td>1</td>\n",
       "    </tr>\n",
       "    <tr>\n",
       "      <th>3</th>\n",
       "      <td>6</td>\n",
       "      <td>NaN</td>\n",
       "      <td>NaN</td>\n",
       "      <td>13,000 people receive #wildfires evacuation orders in California</td>\n",
       "      <td>1</td>\n",
       "    </tr>\n",
       "    <tr>\n",
       "      <th>4</th>\n",
       "      <td>7</td>\n",
       "      <td>NaN</td>\n",
       "      <td>NaN</td>\n",
       "      <td>Just got sent this photo from Ruby #Alaska as smoke from #wildfires pours into a school</td>\n",
       "      <td>1</td>\n",
       "    </tr>\n",
       "  </tbody>\n",
       "</table>\n",
       "</div>"
      ],
      "text/plain": [
       "   id keyword location  \\\n",
       "0   1     NaN      NaN   \n",
       "1   4     NaN      NaN   \n",
       "2   5     NaN      NaN   \n",
       "3   6     NaN      NaN   \n",
       "4   7     NaN      NaN   \n",
       "\n",
       "                                                                                                                                    text  \\\n",
       "0                                                                  Our Deeds are the Reason of this #earthquake May ALLAH Forgive us all   \n",
       "1                                                                                                 Forest fire near La Ronge Sask. Canada   \n",
       "2  All residents asked to 'shelter in place' are being notified by officers. No other evacuation or shelter in place orders are expected   \n",
       "3                                                                      13,000 people receive #wildfires evacuation orders in California    \n",
       "4                                               Just got sent this photo from Ruby #Alaska as smoke from #wildfires pours into a school    \n",
       "\n",
       "   target  \n",
       "0       1  \n",
       "1       1  \n",
       "2       1  \n",
       "3       1  \n",
       "4       1  "
      ]
     },
     "execution_count": 4,
     "metadata": {},
     "output_type": "execute_result"
    }
   ],
   "source": [
    "df.head()"
   ]
  },
  {
   "cell_type": "code",
   "execution_count": 7,
   "id": "1ff58451-b080-4603-a188-72f871791383",
   "metadata": {},
   "outputs": [
    {
     "data": {
      "image/png": "[encoded data removed]",
      "text/plain": [
       "<Figure size 600x400 with 1 Axes>"
      ]
     },
     "metadata": {},
     "output_type": "display_data"
    }
   ],
   "source": [
    "#check class imbalance\n",
    "\n",
    "df_targets = df.target.value_counts().reset_index()\n",
    "df_targets.columns = ['target','count']\n",
    "\n",
    "sns.set_context(\"talk\")\n",
    "\n",
    "sns.barplot(x = 'target',\n",
    "            y = 'count',\n",
    "            data = df_targets)\n",
    "\n",
    "plt.savefig(\"check_class_imbalance.png\",\n",
    "            bbox_inches=\"tight\",\n",
    "            dpi = 400,\n",
    "           transparent=True); #avoid cutting off labels\n",
    "\n",
    "# Show the plot\n",
    "plt.show()"
   ]
  },
  {
   "cell_type": "markdown",
   "id": "22adb88c-215e-41ac-a85d-67295c35481d",
   "metadata": {},
   "source": [
    "No severe class imbalance."
   ]
  },
  {
   "cell_type": "markdown",
   "id": "bd052f2a-5d0b-4bae-ba10-6edf625fce76",
   "metadata": {},
   "source": [
    "# Cleaning"
   ]
  },
  {
   "cell_type": "code",
   "execution_count": 6,
   "id": "f6e55abb-6ae7-4655-8ed4-006da40a4abf",
   "metadata": {},
   "outputs": [],
   "source": [
    "def remove_urls(text: str, replacement: str=\"\") -> str:\n",
    "    \"\"\"Removes URLs from a given string.\"\"\"\n",
    "    \"\"\"Also removes @ mentions.\"\"\"\n",
    "    # Define the regex used to identify URLs\n",
    "    url_expression = (\n",
    "        r\"(?i)\\b((?:https?://|www\\d{0,3}[.]|[a-z0-9.\\-]+[.][a-z]{2,4}/)\"\n",
    "        r\"(?:[^\\s()<>]+|\\(([^\\s()<>]+|(\\([^\\s()<>]+\\)))*\\))+(?:\\(([^\\s(\"\n",
    "        r\")<>]+|(\\([^\\s()<>]+\\)))*\\)|[^\\s`!()\\[\\]{};:'\\\".,<>?«»“”‘’]))\"\n",
    "    )\n",
    "    # Replace any URLs with the replacement string\n",
    "    text1 = re.sub(url_expression, replacement, text)\n",
    "    \n",
    "    #remove @ mentions and return\n",
    "    return re.sub(r\"@[A-Za-z0-9]+\", replacement, text1)"
   ]
  },
  {
   "cell_type": "code",
   "execution_count": 7,
   "id": "b5ff45d6-5c27-4dbb-86a3-e4dc6c726e0d",
   "metadata": {},
   "outputs": [],
   "source": [
    "def remove_nonalphanumeric(text: np.str_) -> str:\n",
    "    \"\"\"\n",
    "    Removes non-alphanumeric characters from a given string.\n",
    "    \n",
    "    Preserves spaces and quotation marks (to preserve contractions).\n",
    "    \"\"\"\n",
    "\n",
    "    return re.sub(\"[^A-Za-z0-9 '\\\"]+\", '', text)"
   ]
  },
  {
   "cell_type": "code",
   "execution_count": 8,
   "id": "fe1e28ee-9874-4337-acd9-eea360463172",
   "metadata": {},
   "outputs": [],
   "source": [
    "df[\"text\"] = df[\"text\"].apply(remove_urls) # Must be done first\n",
    "df[\"text\"] = df[\"text\"].apply(remove_nonalphanumeric)"
   ]
  },
  {
   "cell_type": "code",
   "execution_count": 9,
   "id": "ab18622c-8752-4bc0-8cb1-13ed6c435c52",
   "metadata": {},
   "outputs": [],
   "source": [
    "#remove irrelevant string\n",
    "df['text'] = df.text.str.replace('I liked a YouTube video', '').replace('I added a video to a YouTube playlist', '')"
   ]
  },
  {
   "cell_type": "code",
   "execution_count": 10,
   "id": "c2d2dc3a-4321-47b2-b184-11421b3bfa5a",
   "metadata": {},
   "outputs": [],
   "source": [
    "df['text_lower'] = df.text.str.lower()"
   ]
  },
  {
   "cell_type": "code",
   "execution_count": 11,
   "id": "0a1ecdb7-af1c-45ff-8139-2ba8812bfc40",
   "metadata": {},
   "outputs": [],
   "source": [
    "#removing duplicate tweets\n",
    "df = df.drop_duplicates(subset=['text_lower'], keep='first')\n",
    "df = df.reset_index(drop=True)"
   ]
  },
  {
   "cell_type": "code",
   "execution_count": 12,
   "id": "124923c2-a7b0-4aab-b5a0-682f6425b293",
   "metadata": {},
   "outputs": [
    {
     "data": {
      "text/html": [
       "<div>\n",
       "<style scoped>\n",
       "    .dataframe tbody tr th:only-of-type {\n",
       "        vertical-align: middle;\n",
       "    }\n",
       "\n",
       "    .dataframe tbody tr th {\n",
       "        vertical-align: top;\n",
       "    }\n",
       "\n",
       "    .dataframe thead th {\n",
       "        text-align: right;\n",
       "    }\n",
       "</style>\n",
       "<table border=\"1\" class=\"dataframe\">\n",
       "  <thead>\n",
       "    <tr style=\"text-align: right;\">\n",
       "      <th></th>\n",
       "      <th>id</th>\n",
       "      <th>keyword</th>\n",
       "      <th>location</th>\n",
       "      <th>text</th>\n",
       "      <th>target</th>\n",
       "      <th>text_lower</th>\n",
       "    </tr>\n",
       "  </thead>\n",
       "  <tbody>\n",
       "    <tr>\n",
       "      <th>0</th>\n",
       "      <td>1</td>\n",
       "      <td>NaN</td>\n",
       "      <td>NaN</td>\n",
       "      <td>Our Deeds are the Reason of this earthquake May ALLAH Forgive us all</td>\n",
       "      <td>1</td>\n",
       "      <td>our deeds are the reason of this earthquake may allah forgive us all</td>\n",
       "    </tr>\n",
       "    <tr>\n",
       "      <th>1</th>\n",
       "      <td>4</td>\n",
       "      <td>NaN</td>\n",
       "      <td>NaN</td>\n",
       "      <td>Forest fire near La Ronge Sask Canada</td>\n",
       "      <td>1</td>\n",
       "      <td>forest fire near la ronge sask canada</td>\n",
       "    </tr>\n",
       "    <tr>\n",
       "      <th>2</th>\n",
       "      <td>5</td>\n",
       "      <td>NaN</td>\n",
       "      <td>NaN</td>\n",
       "      <td>All residents asked to 'shelter in place' are being notified by officers No other evacuation or shelter in place orders are expected</td>\n",
       "      <td>1</td>\n",
       "      <td>all residents asked to 'shelter in place' are being notified by officers no other evacuation or shelter in place orders are expected</td>\n",
       "    </tr>\n",
       "    <tr>\n",
       "      <th>3</th>\n",
       "      <td>6</td>\n",
       "      <td>NaN</td>\n",
       "      <td>NaN</td>\n",
       "      <td>13000 people receive wildfires evacuation orders in California</td>\n",
       "      <td>1</td>\n",
       "      <td>13000 people receive wildfires evacuation orders in california</td>\n",
       "    </tr>\n",
       "    <tr>\n",
       "      <th>4</th>\n",
       "      <td>7</td>\n",
       "      <td>NaN</td>\n",
       "      <td>NaN</td>\n",
       "      <td>Just got sent this photo from Ruby Alaska as smoke from wildfires pours into a school</td>\n",
       "      <td>1</td>\n",
       "      <td>just got sent this photo from ruby alaska as smoke from wildfires pours into a school</td>\n",
       "    </tr>\n",
       "  </tbody>\n",
       "</table>\n",
       "</div>"
      ],
      "text/plain": [
       "   id keyword location  \\\n",
       "0   1     NaN      NaN   \n",
       "1   4     NaN      NaN   \n",
       "2   5     NaN      NaN   \n",
       "3   6     NaN      NaN   \n",
       "4   7     NaN      NaN   \n",
       "\n",
       "                                                                                                                                   text  \\\n",
       "0                                                                  Our Deeds are the Reason of this earthquake May ALLAH Forgive us all   \n",
       "1                                                                                                 Forest fire near La Ronge Sask Canada   \n",
       "2  All residents asked to 'shelter in place' are being notified by officers No other evacuation or shelter in place orders are expected   \n",
       "3                                                                       13000 people receive wildfires evacuation orders in California    \n",
       "4                                                Just got sent this photo from Ruby Alaska as smoke from wildfires pours into a school    \n",
       "\n",
       "   target  \\\n",
       "0       1   \n",
       "1       1   \n",
       "2       1   \n",
       "3       1   \n",
       "4       1   \n",
       "\n",
       "                                                                                                                             text_lower  \n",
       "0                                                                  our deeds are the reason of this earthquake may allah forgive us all  \n",
       "1                                                                                                 forest fire near la ronge sask canada  \n",
       "2  all residents asked to 'shelter in place' are being notified by officers no other evacuation or shelter in place orders are expected  \n",
       "3                                                                       13000 people receive wildfires evacuation orders in california   \n",
       "4                                                just got sent this photo from ruby alaska as smoke from wildfires pours into a school   "
      ]
     },
     "execution_count": 12,
     "metadata": {},
     "output_type": "execute_result"
    }
   ],
   "source": [
    "df.head()"
   ]
  },
  {
   "cell_type": "markdown",
   "id": "f8234aea-0734-48a3-a4b1-ee2f75d97a31",
   "metadata": {},
   "source": [
    "# Lemmatize"
   ]
  },
  {
   "cell_type": "code",
   "execution_count": 31,
   "id": "a3fbe21d-7505-4058-8c50-f6ec7817d982",
   "metadata": {
    "tags": []
   },
   "outputs": [],
   "source": [
    "#!python -m spacy download en_core_web_sm"
   ]
  },
  {
   "cell_type": "code",
   "execution_count": 20,
   "id": "4f9357f0-a834-42dc-bb42-496d28e6dda8",
   "metadata": {},
   "outputs": [
    {
     "data": {
      "text/plain": [
       "['tok2vec', 'tagger', 'parser', 'attribute_ruler', 'lemmatizer', 'ner']"
      ]
     },
     "execution_count": 20,
     "metadata": {},
     "output_type": "execute_result"
    }
   ],
   "source": [
    "nlp = spacy.load('en_core_web_sm')\n",
    "                 #, disable=['parser'])\n",
    "\n",
    "nlp.pipe_names"
   ]
  },
  {
   "cell_type": "code",
   "execution_count": 21,
   "id": "216e279d-1b23-4d3f-a171-6b62d44358d7",
   "metadata": {},
   "outputs": [],
   "source": [
    "#remove stop words\n",
    "from spacy.lang.en.stop_words import STOP_WORDS"
   ]
  },
  {
   "cell_type": "code",
   "execution_count": 22,
   "id": "50a518aa-de56-42c1-94d0-84c7e0c37f73",
   "metadata": {},
   "outputs": [],
   "source": [
    "#Customize stop words\n",
    "\n",
    "#stopwords = nlp.Defaults.stop_words\n",
    "\n",
    "# print(len(stopwords))\n",
    "\n",
    "# #add new stop words\n",
    "# nlp.Defaults.stop_words.add(\"my_new_stopword\")\n",
    "#nlp.Defaults.stop_words |= {\"Afham\",\"Farden\"}\n",
    "\n",
    "# #remove stop words\n",
    "# nlp.Defaults.stop_words.remove(\"what\")\n",
    "# nlp.Defaults.stop_words -= {\"who\", \"when\"}\n",
    "\n",
    "# # # My custom list of stop words.\n",
    "# stop_list = [\"like\"]\n",
    "# # # Updates spaCy's default stop words list with my additional words. \n",
    "# nlp.Defaults.stop_words.update(stop_list)\n",
    "\n",
    "# Iterates over the words in the stop words list and resets the \"is_stop\" flag.\n",
    "for word in STOP_WORDS:\n",
    "    lexeme = nlp.vocab[word]\n",
    "    lexeme.is_stop = True"
   ]
  },
  {
   "cell_type": "code",
   "execution_count": 23,
   "id": "3d11c1c8-51ff-45a8-ad8d-e1d9057e8ae4",
   "metadata": {},
   "outputs": [
    {
     "data": {
      "text/plain": [
       "True"
      ]
     },
     "execution_count": 23,
     "metadata": {},
     "output_type": "execute_result"
    }
   ],
   "source": [
    "'like' in nlp.Defaults.stop_words"
   ]
  },
  {
   "cell_type": "code",
   "execution_count": 24,
   "id": "abcb4dad-f387-4ac5-b675-451a3baf75e5",
   "metadata": {
    "colab": {
     "base_uri": "https://localhost:8080/",
     "height": 35
    },
    "id": "8rQDxWtd5Nyr",
    "outputId": "16fc4a8f-1efa-4b96-b0f0-3d9c0aeae9a9",
    "tags": []
   },
   "outputs": [],
   "source": [
    "#remove stop word, lemmatization\n",
    "def preprocess(doc):\n",
    "\n",
    "    sent_cleaned = ''\n",
    "    for token in nlp(doc):\n",
    "        if not token.is_stop:\n",
    "            if not token.pos_ == 'PUNCT':\n",
    "                sent_cleaned += token.lemma_.lower()\n",
    "                sent_cleaned += ' '\n",
    "    sent_cleaned = sent_cleaned.strip()\n",
    "    return sent_cleaned"
   ]
  },
  {
   "cell_type": "code",
   "execution_count": 25,
   "id": "c74ccd69-af9b-441c-9f7a-d8e29df326d2",
   "metadata": {},
   "outputs": [
    {
     "name": "stderr",
     "output_type": "stream",
     "text": [
      "100%|██████████████████████████████████████████████████████████████████████████████| 6923/6923 [00:22<00:00, 309.31it/s]\n"
     ]
    }
   ],
   "source": [
    "#remove stop word, lemmatization\n",
    "# processed = tqdm(tweets_df_en['CleanedText'].\\\n",
    "#         map(lambda x: preprocess(x)))\n",
    "#         #map(lambda x: spellchecker(x)).\\ not including spellchecker since it changes Elon to Leon\n",
    "processed=[]\n",
    "for tweet in tqdm(df['text']):\n",
    "    processed.append(preprocess(tweet))"
   ]
  },
  {
   "cell_type": "markdown",
   "id": "79d901c7-6f6d-4cb2-8cec-d41d7dd6091b",
   "metadata": {},
   "source": [
    "# TF-IDF Tokenize"
   ]
  },
  {
   "cell_type": "code",
   "execution_count": 32,
   "id": "03af8895-21bd-4002-9485-f5cf77e4caf6",
   "metadata": {},
   "outputs": [],
   "source": [
    "#TF-IDF\n",
    "#limit max features for performance\n",
    "tv = TfidfVectorizer(stop_words=None, ngram_range=(1,3), max_features=100000)\n",
    "tv_out = tv.fit_transform(processed)"
   ]
  },
  {
   "cell_type": "code",
   "execution_count": 33,
   "id": "c0450e4a-3d89-481b-be5f-dbea02d7f54f",
   "metadata": {},
   "outputs": [
    {
     "name": "stderr",
     "output_type": "stream",
     "text": [
      "/home/josh_wang/anaconda3/envs/data_mining/lib/python3.8/site-packages/sklearn/utils/deprecation.py:87: FutureWarning: Function get_feature_names is deprecated; get_feature_names is deprecated in 1.0 and will be removed in 1.2. Please use get_feature_names_out instead.\n",
      "  warnings.warn(msg, category=FutureWarning)\n"
     ]
    }
   ],
   "source": [
    "tfidf = pd.DataFrame(tv_out.toarray(), columns=tv.get_feature_names())"
   ]
  },
  {
   "cell_type": "code",
   "execution_count": 34,
   "id": "d8300d58-e7a8-44e6-a857-3cf987c2a015",
   "metadata": {},
   "outputs": [
    {
     "data": {
      "text/html": [
       "<div>\n",
       "<style scoped>\n",
       "    .dataframe tbody tr th:only-of-type {\n",
       "        vertical-align: middle;\n",
       "    }\n",
       "\n",
       "    .dataframe tbody tr th {\n",
       "        vertical-align: top;\n",
       "    }\n",
       "\n",
       "    .dataframe thead th {\n",
       "        text-align: right;\n",
       "    }\n",
       "</style>\n",
       "<table border=\"1\" class=\"dataframe\">\n",
       "  <thead>\n",
       "    <tr style=\"text-align: right;\">\n",
       "      <th></th>\n",
       "      <th>0011</th>\n",
       "      <th>0011 utc</th>\n",
       "      <th>0011 utc earthquake</th>\n",
       "      <th>001116</th>\n",
       "      <th>001116 utc20150805</th>\n",
       "      <th>001116 utc20150805 161116</th>\n",
       "      <th>0025</th>\n",
       "      <th>0025 update</th>\n",
       "      <th>0025 update kml</th>\n",
       "      <th>005225</th>\n",
       "      <th>...</th>\n",
       "      <th>zrnf</th>\n",
       "      <th>zss</th>\n",
       "      <th>zss vs</th>\n",
       "      <th>zss vs sws</th>\n",
       "      <th>zumiez</th>\n",
       "      <th>zumiez location</th>\n",
       "      <th>zurich</th>\n",
       "      <th>zurich swiss</th>\n",
       "      <th>zurich swiss premiere</th>\n",
       "      <th>zzzz</th>\n",
       "    </tr>\n",
       "  </thead>\n",
       "  <tbody>\n",
       "    <tr>\n",
       "      <th>0</th>\n",
       "      <td>0.0</td>\n",
       "      <td>0.0</td>\n",
       "      <td>0.0</td>\n",
       "      <td>0.0</td>\n",
       "      <td>0.0</td>\n",
       "      <td>0.0</td>\n",
       "      <td>0.0</td>\n",
       "      <td>0.0</td>\n",
       "      <td>0.0</td>\n",
       "      <td>0.0</td>\n",
       "      <td>...</td>\n",
       "      <td>0.0</td>\n",
       "      <td>0.0</td>\n",
       "      <td>0.0</td>\n",
       "      <td>0.0</td>\n",
       "      <td>0.0</td>\n",
       "      <td>0.0</td>\n",
       "      <td>0.0</td>\n",
       "      <td>0.0</td>\n",
       "      <td>0.0</td>\n",
       "      <td>0.0</td>\n",
       "    </tr>\n",
       "    <tr>\n",
       "      <th>1</th>\n",
       "      <td>0.0</td>\n",
       "      <td>0.0</td>\n",
       "      <td>0.0</td>\n",
       "      <td>0.0</td>\n",
       "      <td>0.0</td>\n",
       "      <td>0.0</td>\n",
       "      <td>0.0</td>\n",
       "      <td>0.0</td>\n",
       "      <td>0.0</td>\n",
       "      <td>0.0</td>\n",
       "      <td>...</td>\n",
       "      <td>0.0</td>\n",
       "      <td>0.0</td>\n",
       "      <td>0.0</td>\n",
       "      <td>0.0</td>\n",
       "      <td>0.0</td>\n",
       "      <td>0.0</td>\n",
       "      <td>0.0</td>\n",
       "      <td>0.0</td>\n",
       "      <td>0.0</td>\n",
       "      <td>0.0</td>\n",
       "    </tr>\n",
       "    <tr>\n",
       "      <th>2</th>\n",
       "      <td>0.0</td>\n",
       "      <td>0.0</td>\n",
       "      <td>0.0</td>\n",
       "      <td>0.0</td>\n",
       "      <td>0.0</td>\n",
       "      <td>0.0</td>\n",
       "      <td>0.0</td>\n",
       "      <td>0.0</td>\n",
       "      <td>0.0</td>\n",
       "      <td>0.0</td>\n",
       "      <td>...</td>\n",
       "      <td>0.0</td>\n",
       "      <td>0.0</td>\n",
       "      <td>0.0</td>\n",
       "      <td>0.0</td>\n",
       "      <td>0.0</td>\n",
       "      <td>0.0</td>\n",
       "      <td>0.0</td>\n",
       "      <td>0.0</td>\n",
       "      <td>0.0</td>\n",
       "      <td>0.0</td>\n",
       "    </tr>\n",
       "    <tr>\n",
       "      <th>3</th>\n",
       "      <td>0.0</td>\n",
       "      <td>0.0</td>\n",
       "      <td>0.0</td>\n",
       "      <td>0.0</td>\n",
       "      <td>0.0</td>\n",
       "      <td>0.0</td>\n",
       "      <td>0.0</td>\n",
       "      <td>0.0</td>\n",
       "      <td>0.0</td>\n",
       "      <td>0.0</td>\n",
       "      <td>...</td>\n",
       "      <td>0.0</td>\n",
       "      <td>0.0</td>\n",
       "      <td>0.0</td>\n",
       "      <td>0.0</td>\n",
       "      <td>0.0</td>\n",
       "      <td>0.0</td>\n",
       "      <td>0.0</td>\n",
       "      <td>0.0</td>\n",
       "      <td>0.0</td>\n",
       "      <td>0.0</td>\n",
       "    </tr>\n",
       "    <tr>\n",
       "      <th>4</th>\n",
       "      <td>0.0</td>\n",
       "      <td>0.0</td>\n",
       "      <td>0.0</td>\n",
       "      <td>0.0</td>\n",
       "      <td>0.0</td>\n",
       "      <td>0.0</td>\n",
       "      <td>0.0</td>\n",
       "      <td>0.0</td>\n",
       "      <td>0.0</td>\n",
       "      <td>0.0</td>\n",
       "      <td>...</td>\n",
       "      <td>0.0</td>\n",
       "      <td>0.0</td>\n",
       "      <td>0.0</td>\n",
       "      <td>0.0</td>\n",
       "      <td>0.0</td>\n",
       "      <td>0.0</td>\n",
       "      <td>0.0</td>\n",
       "      <td>0.0</td>\n",
       "      <td>0.0</td>\n",
       "      <td>0.0</td>\n",
       "    </tr>\n",
       "  </tbody>\n",
       "</table>\n",
       "<p>5 rows × 92033 columns</p>\n",
       "</div>"
      ],
      "text/plain": [
       "   0011  0011 utc  0011 utc earthquake  001116  001116 utc20150805  \\\n",
       "0   0.0       0.0                  0.0     0.0                 0.0   \n",
       "1   0.0       0.0                  0.0     0.0                 0.0   \n",
       "2   0.0       0.0                  0.0     0.0                 0.0   \n",
       "3   0.0       0.0                  0.0     0.0                 0.0   \n",
       "4   0.0       0.0                  0.0     0.0                 0.0   \n",
       "\n",
       "   001116 utc20150805 161116  0025  0025 update  0025 update kml  005225  ...  \\\n",
       "0                        0.0   0.0          0.0              0.0     0.0  ...   \n",
       "1                        0.0   0.0          0.0              0.0     0.0  ...   \n",
       "2                        0.0   0.0          0.0              0.0     0.0  ...   \n",
       "3                        0.0   0.0          0.0              0.0     0.0  ...   \n",
       "4                        0.0   0.0          0.0              0.0     0.0  ...   \n",
       "\n",
       "   zrnf  zss  zss vs  zss vs sws  zumiez  zumiez location  zurich  \\\n",
       "0   0.0  0.0     0.0         0.0     0.0              0.0     0.0   \n",
       "1   0.0  0.0     0.0         0.0     0.0              0.0     0.0   \n",
       "2   0.0  0.0     0.0         0.0     0.0              0.0     0.0   \n",
       "3   0.0  0.0     0.0         0.0     0.0              0.0     0.0   \n",
       "4   0.0  0.0     0.0         0.0     0.0              0.0     0.0   \n",
       "\n",
       "   zurich swiss  zurich swiss premiere  zzzz  \n",
       "0           0.0                    0.0   0.0  \n",
       "1           0.0                    0.0   0.0  \n",
       "2           0.0                    0.0   0.0  \n",
       "3           0.0                    0.0   0.0  \n",
       "4           0.0                    0.0   0.0  \n",
       "\n",
       "[5 rows x 92033 columns]"
      ]
     },
     "execution_count": 34,
     "metadata": {},
     "output_type": "execute_result"
    }
   ],
   "source": [
    "tfidf.head(5)"
   ]
  },
  {
   "cell_type": "markdown",
   "id": "462a7bf4-1728-4494-9016-ea1eaea73386",
   "metadata": {},
   "source": [
    "# Naive Bayes"
   ]
  },
  {
   "cell_type": "code",
   "execution_count": 114,
   "id": "79eba2f5-c726-4dc1-b8c6-2ed5e0a04c44",
   "metadata": {},
   "outputs": [],
   "source": [
    "#set seed for reproducibility\n",
    "seed = 1234\n",
    "np.random.seed(seed)\n",
    "random.seed(seed)"
   ]
  },
  {
   "cell_type": "markdown",
   "id": "55c71afc-ef91-4d0d-afc4-d7b05d3254d0",
   "metadata": {},
   "source": [
    "## Baseline"
   ]
  },
  {
   "cell_type": "code",
   "execution_count": 116,
   "id": "84032f11-60cd-45f7-a518-5f637bb76723",
   "metadata": {},
   "outputs": [
    {
     "data": {
      "text/plain": [
       "0.6949177191801885"
      ]
     },
     "execution_count": 116,
     "metadata": {},
     "output_type": "execute_result"
    }
   ],
   "source": [
    "skf = StratifiedKFold(n_splits = 5, random_state=seed, shuffle=True)\n",
    "\n",
    "pipeline = Pipeline([\n",
    "    ('Tfid', TfidfVectorizer(stop_words=None)),\n",
    "    ('clf', MultinomialNB())\n",
    "])\n",
    "\n",
    "X_train = processed\n",
    "y_train = df.target\n",
    "\n",
    "scores = cross_validate(pipeline, X_train, y_train, cv=skf, scoring='f1', return_estimator=True)\n",
    "\n",
    "#mean BSS of lr base\n",
    "np.mean(scores['test_score'])"
   ]
  },
  {
   "cell_type": "markdown",
   "id": "f2e05777-73ab-46a3-949f-7649a7e9b3b4",
   "metadata": {},
   "source": [
    "## GridsearchCV"
   ]
  },
  {
   "cell_type": "code",
   "execution_count": 120,
   "id": "92b6fa1c-eb8f-44aa-bab1-c126c202fb25",
   "metadata": {},
   "outputs": [
    {
     "name": "stdout",
     "output_type": "stream",
     "text": [
      "Fitting 5 folds for each of 120 candidates, totalling 600 fits\n",
      "{'Tfid__max_features': 5200, 'Tfid__ngram_range': (1, 2), 'clf__alpha': 0.44000000000000006, 'clf__fit_prior': False}\n",
      "0.7292540666247529\n"
     ]
    }
   ],
   "source": [
    "ngram_range = [(1,2)]\n",
    "max_features = np.arange(5100,5250,25)\n",
    "alpha = np.arange(0.4,0.6,0.01)\n",
    "fit_prior = [False]\n",
    "\n",
    "pipeline = Pipeline([\n",
    "    ('Tfid', TfidfVectorizer(stop_words=None)),\n",
    "    ('clf', MultinomialNB())\n",
    "])\n",
    "\n",
    "params = [{\n",
    "        'Tfid__ngram_range': ngram_range,\n",
    "        'Tfid__max_features':max_features,\n",
    "        'clf__alpha':alpha,\n",
    "        'clf__fit_prior':fit_prior    \n",
    "        }]\n",
    "\n",
    "skf = StratifiedKFold(n_splits = 5, random_state=seed, shuffle=True)\n",
    "\n",
    "model = GridSearchCV(pipeline, param_grid = params, scoring = 'f1', cv=skf, n_jobs=-1, verbose=1)\n",
    "\n",
    "X_train = processed\n",
    "y_train = df.target\n",
    "\n",
    "model.fit(X_train, y_train)\n",
    "#y_pred_gs=gs_lr.predict(X_test)\n",
    "\n",
    "print(model.best_params_)\n",
    "print(model.best_score_)"
   ]
  },
  {
   "cell_type": "code",
   "execution_count": 145,
   "id": "b48a1a0e-7f8d-4c4b-9ab7-9ff62edc03a8",
   "metadata": {},
   "outputs": [],
   "source": [
    "example = ['sky is burning', 'ground is shaking', 'let us get lunch']"
   ]
  },
  {
   "cell_type": "code",
   "execution_count": 146,
   "id": "066d56fa-95c6-4fd4-8572-38bbb9b3f8d5",
   "metadata": {},
   "outputs": [
    {
     "data": {
      "text/plain": [
       "array([1, 1, 0])"
      ]
     },
     "execution_count": 146,
     "metadata": {},
     "output_type": "execute_result"
    }
   ],
   "source": [
    "model.predict(example)"
   ]
  }
 ],
 "metadata": {
  "kernelspec": {
   "display_name": "Python 3 (ipykernel)",
   "language": "python",
   "name": "python3"
  },
  "language_info": {
   "codemirror_mode": {
    "name": "ipython",
    "version": 3
   },
   "file_extension": ".py",
   "mimetype": "text/x-python",
   "name": "python",
   "nbconvert_exporter": "python",
   "pygments_lexer": "ipython3",
   "version": "3.8.13"
  }
 },
 "nbformat": 4,
 "nbformat_minor": 5
}
